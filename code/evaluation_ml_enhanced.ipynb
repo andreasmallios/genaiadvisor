{
 "cells": [
  {
   "cell_type": "markdown",
   "id": "ca590693",
   "metadata": {},
   "source": [
    "# GenAI Advisor ML-Enhanced Evaluation"
   ]
  },
  {
   "cell_type": "code",
   "execution_count": null,
   "id": "f6ba0d80",
   "metadata": {},
   "outputs": [],
   "source": [
    "\n",
    "import pandas as pd\n",
    "import matplotlib.pyplot as plt\n",
    "import seaborn as sns\n",
    "\n",
    "# Simulate loading your ML-enhanced CSV data directly\n",
    "from io import StringIO\n",
    "\n",
    "csv_data = '''ticker,as_of_date,recommendation,reason,price_change_%\n",
    "MSFT,2025-04-01,BUY,2 out of 4 signals indicate BUY.,11.32\n",
    "MSFT,2025-05-01,BUY,1 out of 4 signals indicate BUY.,5.76\n",
    "MSFT,2025-06-01,HOLD,No signals strongly indicate a buy condition.,6.51\n",
    "AAPL,2025-04-01,BUY,2 out of 4 signals indicate BUY.,-4.72\n",
    "AAPL,2025-05-01,BUY,2 out of 4 signals indicate BUY.,-2.19\n",
    "AAPL,2025-06-01,BUY,1 out of 4 signals indicate BUY.,3.03\n",
    "GOOGL,2025-04-01,BUY,1 out of 4 signals indicate BUY.,2.71\n",
    "GOOGL,2025-05-01,BUY,2 out of 4 signals indicate BUY.,4.7\n",
    "GOOGL,2025-06-01,BUY,2 out of 4 signals indicate BUY.,4.03\n",
    "AMZN,2025-04-01,BUY,2 out of 4 signals indicate BUY.,-2.96\n",
    "AMZN,2025-05-01,BUY,2 out of 4 signals indicate BUY.,7.91\n",
    "AMZN,2025-06-01,BUY,1 out of 4 signals indicate BUY.,6.68'''\n",
    "\n",
    "df = pd.read_csv(StringIO(csv_data))\n",
    "\n",
    "print(f\"Loaded ML-enhanced batch backtest with {len(df)} records.\")\n",
    "display(df.head())\n",
    "\n",
    "# Basic dataset stats\n",
    "print(df.describe())\n",
    "print(df['recommendation'].value_counts())\n",
    "\n",
    "# Histogram of price changes\n",
    "plt.figure(figsize=(8,5))\n",
    "sns.histplot(df['price_change_%'].dropna(), bins=15, kde=True)\n",
    "plt.title('Distribution of Price Change % After Recommendations (ML-Enhanced)')\n",
    "plt.xlabel('Price Change %')\n",
    "plt.ylabel('Frequency')\n",
    "plt.tight_layout()\n",
    "plt.show()\n",
    "\n",
    "# Boxplot: recommendations vs price change\n",
    "plt.figure(figsize=(8,5))\n",
    "sns.boxplot(x='recommendation', y='price_change_%', data=df)\n",
    "plt.title('Price Change % by Recommendation Type (ML-Enhanced)')\n",
    "plt.ylabel('Price Change % over Lookahead Period')\n",
    "plt.xlabel('Recommendation')\n",
    "plt.tight_layout()\n",
    "plt.show()\n",
    "\n",
    "# BUY signal effectiveness\n",
    "buy_signals = df[df['recommendation'] == 'BUY']\n",
    "buy_positive = buy_signals[buy_signals['price_change_%'] > 0]\n",
    "\n",
    "if len(buy_signals) > 0:\n",
    "    buy_accuracy = len(buy_positive) / len(buy_signals) * 100\n",
    "    print(f\"BUY signal accuracy: {buy_accuracy:.2f}% ({len(buy_positive)}/{len(buy_signals)})\")\n",
    "else:\n",
    "    print(\"No BUY signals to evaluate.\")\n",
    "\n",
    "# Save processed evaluation summary\n",
    "df.to_csv('processed_evaluation_summary.csv', index=False)\n",
    "print(\"Saved: processed_evaluation_summary.csv\")\n"
   ]
  },
  {
   "cell_type": "code",
   "execution_count": null,
   "id": "02fdb56b",
   "metadata": {},
   "outputs": [],
   "source": []
  }
 ],
 "metadata": {
  "language_info": {
   "name": "python"
  }
 },
 "nbformat": 4,
 "nbformat_minor": 5
}
