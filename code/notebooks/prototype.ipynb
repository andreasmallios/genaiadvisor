{
 "cells": [
  {
   "cell_type": "code",
   "execution_count": 1,
   "id": "6f63b449-b32f-4d5c-b9d4-68c49d10b629",
   "metadata": {},
   "outputs": [],
   "source": [
    "# Imports and Setup\n",
    "import subprocess\n",
    "import json\n",
    "import pandas as pd\n",
    "import random\n",
    "import re\n",
    "import ast\n",
    "import matplotlib.pyplot as plt\n",
    "\n",
    "# Define your models and input prompts\n",
    "models = [\n",
    "    \"mistral:7b\", \"deepseek-r1:8b\", \"llama3.1:8b\", \"gemma:7b\"\n",
    "]\n",
    "\n",
    "prompts = [\n",
    "    {\n",
    "        \"ticker\": \"MSFT\",\n",
    "        \"action\": \"BUY\",\n",
    "        \"pe\": 32.1,\n",
    "        \"rsi\": 58,\n",
    "        \"beta\": 1.1\n",
    "    },\n",
    "    {\n",
    "        \"ticker\": \"NVDA\",\n",
    "        \"action\": \"HOLD\",\n",
    "        \"pe\": 75.6,\n",
    "        \"rsi\": 69,\n",
    "        \"beta\": 1.8\n",
    "    },\n",
    "    {\n",
    "        \"ticker\": \"AMZN\",\n",
    "        \"action\": \"SELL\",\n",
    "        \"pe\": 92.4,\n",
    "        \"rsi\": 73,\n",
    "        \"beta\": 1.4\n",
    "    }\n",
    "]\n"
   ]
  },
  {
   "cell_type": "code",
   "execution_count": 2,
   "id": "7b19c76f-b6ea-4b30-bbf6-e4af893a7dd2",
   "metadata": {},
   "outputs": [],
   "source": [
    "# Prompt Template Function\n",
    "def build_prompt(data):\n",
    "    return f\"\"\"You are a financial assistant. Based on the following metrics:\n",
    "\n",
    "Ticker: {data['ticker']}\n",
    "Action: {data['action']}\n",
    "P/E Ratio: {data['pe']}\n",
    "RSI: {data['rsi']}\n",
    "Beta: {data['beta']}\n",
    "\n",
    "Generate a short, clear explanation of why this action was recommended, using only the signals provided.\n",
    "\n",
    "Your explanation will be evaluated based on:\n",
    "1. Factual alignment – Does it correctly reference and reflect the input signals?\n",
    "2. Clarity – Is it readable and jargon-free for a non-expert?\n",
    "3. Educational value – Does it help the user understand financial reasoning?\n",
    "\n",
    "Write in a tone that is simple, supportive, and instructive.\n",
    "\"\"\"\n"
   ]
  },
  {
   "cell_type": "code",
   "execution_count": 3,
   "id": "26c9765d-8a08-4c77-adfe-5640152f96b1",
   "metadata": {},
   "outputs": [],
   "source": [
    "# Run Inference (Ollama CLI)\n",
    "def query_ollama(model: str, prompt: str) -> str:\n",
    "    try:\n",
    "        result = subprocess.run(\n",
    "            [\"ollama\", \"run\", model],\n",
    "            input=prompt,\n",
    "            text=True,\n",
    "            capture_output=True,\n",
    "            timeout=60\n",
    "        )\n",
    "        return result.stdout.strip()\n",
    "    except Exception as e:\n",
    "        return f\"Error: {str(e)}\"\n"
   ]
  },
  {
   "cell_type": "code",
   "execution_count": 4,
   "id": "b1051b15-07b9-4ecc-8b64-31d2398d1141",
   "metadata": {},
   "outputs": [
    {
     "name": "stdout",
     "output_type": "stream",
     "text": [
      "Running model: mistral:7b on MSFT\n",
      "Running model: mistral:7b on NVDA\n",
      "Running model: mistral:7b on AMZN\n",
      "Running model: deepseek-r1:8b on MSFT\n",
      "Running model: deepseek-r1:8b on NVDA\n",
      "Running model: deepseek-r1:8b on AMZN\n",
      "Running model: llama3.1:8b on MSFT\n",
      "Running model: llama3.1:8b on NVDA\n",
      "Running model: llama3.1:8b on AMZN\n",
      "Running model: gemma:7b on MSFT\n",
      "Running model: gemma:7b on NVDA\n",
      "Running model: gemma:7b on AMZN\n"
     ]
    }
   ],
   "source": [
    "results = []\n",
    "\n",
    "for model in models:\n",
    "    for data in prompts:\n",
    "        prompt = build_prompt(data)\n",
    "        print(f\"Running model: {model} on {data['ticker']}\")\n",
    "        response = query_ollama(model, prompt)\n",
    "        results.append({\n",
    "            \"model\": model,\n",
    "            \"ticker\": data[\"ticker\"],\n",
    "            \"action\": data[\"action\"],\n",
    "            \"pe\":data[\"pe\"],\n",
    "            \"rsi\":data[\"rsi\"],\n",
    "            \"beta\":data[\"beta\"],\n",
    "            \"response\": response\n",
    "        })"
   ]
  },
  {
   "cell_type": "code",
   "execution_count": 5,
   "id": "023abc04-2d96-4c9a-b3b3-4150fdc1eb3e",
   "metadata": {
    "scrolled": true
   },
   "outputs": [
    {
     "data": {
      "text/html": [
       "<div>\n",
       "<style scoped>\n",
       "    .dataframe tbody tr th:only-of-type {\n",
       "        vertical-align: middle;\n",
       "    }\n",
       "\n",
       "    .dataframe tbody tr th {\n",
       "        vertical-align: top;\n",
       "    }\n",
       "\n",
       "    .dataframe thead th {\n",
       "        text-align: right;\n",
       "    }\n",
       "</style>\n",
       "<table border=\"1\" class=\"dataframe\">\n",
       "  <thead>\n",
       "    <tr style=\"text-align: right;\">\n",
       "      <th></th>\n",
       "      <th>model</th>\n",
       "      <th>ticker</th>\n",
       "      <th>action</th>\n",
       "      <th>pe</th>\n",
       "      <th>rsi</th>\n",
       "      <th>beta</th>\n",
       "      <th>response</th>\n",
       "    </tr>\n",
       "  </thead>\n",
       "  <tbody>\n",
       "    <tr>\n",
       "      <th>0</th>\n",
       "      <td>mistral:7b</td>\n",
       "      <td>MSFT</td>\n",
       "      <td>BUY</td>\n",
       "      <td>32.1</td>\n",
       "      <td>58</td>\n",
       "      <td>1.1</td>\n",
       "      <td>Based on the provided metrics for Microsoft (t...</td>\n",
       "    </tr>\n",
       "    <tr>\n",
       "      <th>1</th>\n",
       "      <td>mistral:7b</td>\n",
       "      <td>NVDA</td>\n",
       "      <td>HOLD</td>\n",
       "      <td>75.6</td>\n",
       "      <td>69</td>\n",
       "      <td>1.8</td>\n",
       "      <td>Based on the provided metrics for NVDA (NVIDIA...</td>\n",
       "    </tr>\n",
       "    <tr>\n",
       "      <th>2</th>\n",
       "      <td>mistral:7b</td>\n",
       "      <td>AMZN</td>\n",
       "      <td>SELL</td>\n",
       "      <td>92.4</td>\n",
       "      <td>73</td>\n",
       "      <td>1.4</td>\n",
       "      <td>Based on the provided metrics, I recommend sel...</td>\n",
       "    </tr>\n",
       "    <tr>\n",
       "      <th>3</th>\n",
       "      <td>deepseek-r1:8b</td>\n",
       "      <td>MSFT</td>\n",
       "      <td>BUY</td>\n",
       "      <td>32.1</td>\n",
       "      <td>58</td>\n",
       "      <td>1.1</td>\n",
       "      <td>Thinking...\\nHmm, the user wants me to create ...</td>\n",
       "    </tr>\n",
       "    <tr>\n",
       "      <th>4</th>\n",
       "      <td>deepseek-r1:8b</td>\n",
       "      <td>NVDA</td>\n",
       "      <td>HOLD</td>\n",
       "      <td>75.6</td>\n",
       "      <td>69</td>\n",
       "      <td>1.8</td>\n",
       "      <td>Thinking...\\nHmm, the user is asking me to act...</td>\n",
       "    </tr>\n",
       "  </tbody>\n",
       "</table>\n",
       "</div>"
      ],
      "text/plain": [
       "            model ticker action    pe  rsi  beta  \\\n",
       "0      mistral:7b   MSFT    BUY  32.1   58   1.1   \n",
       "1      mistral:7b   NVDA   HOLD  75.6   69   1.8   \n",
       "2      mistral:7b   AMZN   SELL  92.4   73   1.4   \n",
       "3  deepseek-r1:8b   MSFT    BUY  32.1   58   1.1   \n",
       "4  deepseek-r1:8b   NVDA   HOLD  75.6   69   1.8   \n",
       "\n",
       "                                            response  \n",
       "0  Based on the provided metrics for Microsoft (t...  \n",
       "1  Based on the provided metrics for NVDA (NVIDIA...  \n",
       "2  Based on the provided metrics, I recommend sel...  \n",
       "3  Thinking...\\nHmm, the user wants me to create ...  \n",
       "4  Thinking...\\nHmm, the user is asking me to act...  "
      ]
     },
     "execution_count": 5,
     "metadata": {},
     "output_type": "execute_result"
    }
   ],
   "source": [
    "df = pd.DataFrame(results)\n",
    "df.head()"
   ]
  },
  {
   "cell_type": "code",
   "execution_count": 6,
   "id": "4dba744e-bf4a-4df2-8405-33002de180de",
   "metadata": {},
   "outputs": [
    {
     "name": "stdout",
     "output_type": "stream",
     "text": [
      "Ticker:  MSFT\n",
      "Action:  BUY\n",
      "P/E:  32.1\n",
      "RSI:  58\n",
      "beta:  1.1\n"
     ]
    }
   ],
   "source": [
    "print(\"Ticker: \", df.ticker[0])\n",
    "print(\"Action: \", df.action[0])\n",
    "print(\"P/E: \", df.pe[0])\n",
    "print(\"RSI: \", df.rsi[0])\n",
    "print(\"beta: \", df.beta[0])"
   ]
  },
  {
   "cell_type": "code",
   "execution_count": 7,
   "id": "92988ac8-e705-426a-a8d0-00c979b29607",
   "metadata": {},
   "outputs": [
    {
     "name": "stdout",
     "output_type": "stream",
     "text": [
      "Model:  mistral:7b\n",
      "Response:  Based on the provided metrics for Microsoft (ticker: MSFT), I would recommend purchasing this stock due to several positive indicators.\n",
      "\n",
      "Firstly, the P/E Ratio of 32.1 indicates that investors are willing to pay a higher price for each dollar of earnings from Microsoft, suggesting the company's growth potential and profitability. However, it is essential to be aware that high P/E Ratios can make a stock more risky.\n",
      "\n",
      "Secondly, the Relative Strength Index (RSI) of 58 shows that Microsoft's price has been increasing at a rate that is neither overbought nor oversold, which can indicate stability and potential for further growth. An RSI value below 30 suggests the stock is oversold or undervalued, while a value above 70 indicates it is overbought.\n",
      "\n",
      "Lastly, Microsoft has a Beta of 1.1, indicating that its price movements are relatively responsive to market swings but slightly more volatile than the overall market. While this can potentially lead to higher returns during bull markets, it also means higher risk during bear markets.\n",
      "\n",
      "In conclusion, buying Microsoft based on these metrics presents an opportunity for potential growth and profitability, while being mindful of the stock's volatility compared to the broader market. It is crucial to consider your own investment goals, risk tolerance, and diversification strategy before making any financial decisions.\n"
     ]
    }
   ],
   "source": [
    "print(\"Model: \", df.model[0])\n",
    "print(\"Response: \", df.response[0])"
   ]
  },
  {
   "cell_type": "code",
   "execution_count": 8,
   "id": "327db813-961e-4f88-afe0-fcec06a07890",
   "metadata": {},
   "outputs": [
    {
     "name": "stdout",
     "output_type": "stream",
     "text": [
      "Model:  deepseek-r1:8b\n",
      "Response:  Thinking...\n",
      "Hmm, the user wants me to create an explanation for why Microsoft (MSFT) was recommended as a \"BUY\" based on three specific metrics: P/E ratio of 32.1, RSI of 58, and Beta of 1.1.\n",
      "\n",
      "I need to analyze these signals carefully:\n",
      "- The P/E is higher than the average tech stock, suggesting it might be overvalued or investors expect future growth.\n",
      "- RSI at 58 indicates neutral momentum; not oversold but also not strongly bullish.\n",
      "- Beta shows MSFT is slightly more volatile than the market.\n",
      "\n",
      "I'll explain each metric simply and tie them together logically. For P/E, I need to show how it compares without assuming perfect knowledge of what's average or ideal. RSI should be explained as a neutral signal in trading terms. Beta needs context about volatility relative to the market.\n",
      "\n",
      "The user is probably not very familiar with finance, so my explanation must avoid technical jargon and use everyday language like \"not too cheap\" instead of precise valuation metrics. I'll keep it supportive by emphasizing that these are just one set of signals among many factors they should consider themselves.\n",
      "\n",
      "I want to make sure the response clearly connects how each metric contributes to the buy recommendation, while highlighting their limitations together. This addresses educational value without overwhelming them with information.\n",
      "...done thinking.\n",
      "\n",
      "Okay, here's a simple breakdown of why MSFT was recommended as a \"BUY\" based on those signals:\n",
      "\n",
      "Based on these specific signals alone, recommending a \"BUY\" for Microsoft (MSFT) might be looking at it from one perspective.\n",
      "\n",
      "*   **P/E Ratio (32.1):** This suggests the stock price is reflecting expectations for future earnings growth. A P/E ratio like this isn't necessarily high or low by itself; it needs comparison to peers and history.\n",
      "*   **RSI (58):** This indicates neutral momentum right now, neither strongly overbought nor deeply oversold. It's suggesting the stock might be finding a balance after recent price action.\n",
      "*   **Beta (1.1):** This shows MSFT is slightly more volatile than the overall market average. If you're comfortable with this extra risk for potentially higher returns, it could align with your strategy.\n",
      "\n",
      "Putting these together *only from these signals*, the recommendation might be seeing that while the stock has some recent price stability (RSI 58), its price isn't considered too expensive relative to expected earnings growth (P/E 32.1). The slightly higher risk level (Beta 1.1) is acknowledged but perhaps still seen as acceptable for a potential buy.\n",
      "\n",
      "**Important Note:** These are just *three specific signals*. A \"BUY\" recommendation should always consider more information, including company fundamentals, market trends, and your own investment goals before acting.\n"
     ]
    }
   ],
   "source": [
    "print(\"Model: \", df.model[3])\n",
    "print(\"Response: \", df.response[3])"
   ]
  },
  {
   "cell_type": "code",
   "execution_count": 9,
   "id": "8e9c6525-b5fb-4fbe-806a-55d6542dc65d",
   "metadata": {},
   "outputs": [
    {
     "name": "stdout",
     "output_type": "stream",
     "text": [
      "Model:  llama3.1:8b\n",
      "Response:  Here's why we're recommending a BUY action on MSFT:\n",
      "\n",
      "We've analyzed Microsoft's (MSFT) stock performance and found some encouraging signs.\n",
      "\n",
      "The Price-to-Earnings (P/E) Ratio is 32.1, which is relatively high compared to the industry average. This might indicate that investors are expecting strong growth from the company, which could be a positive sign.\n",
      "\n",
      "Meanwhile, the Relative Strength Index (RSI) is at 58, indicating that the stock's price has not yet reached overbought territory. This means there's still room for the stock to rise without facing significant selling pressure.\n",
      "\n",
      "Lastly, Microsoft's Beta value of 1.1 suggests that its stock price tends to move slightly more than the overall market. Given this volatility, we think it's a good time to buy in.\n",
      "\n",
      "Overall, these signals suggest that MSFT has potential for growth and is not overly expensive compared to other stocks. That's why we're recommending a BUY action.\n"
     ]
    }
   ],
   "source": [
    "print(\"Model: \", df.model[6])\n",
    "print(\"Response: \", df.response[6])"
   ]
  },
  {
   "cell_type": "code",
   "execution_count": 10,
   "id": "5b840090-4893-4775-8456-3a94c2a672dc",
   "metadata": {},
   "outputs": [
    {
     "name": "stdout",
     "output_type": "stream",
     "text": [
      "Model:  gemma:7b\n",
      "Response:  The recommended action to **BUY MSFT** is supported by two key signals:\n",
      "\n",
      "**1. High RSI (58):** This indicates that the stock is experiencing strong buying momentum, suggesting potential for further price increases.\n",
      "\n",
      "**2. High P/E Ratio (32.1):** While this may seem expensive, the strong buying momentum could justify the premium if the company continues to deliver exceptional earnings growth.\n",
      "\n",
      "These signals suggest that MSFT is in a favorable market position with strong potential for future appreciation.\n"
     ]
    }
   ],
   "source": [
    "print(\"Model: \", df.model[9])\n",
    "print(\"Response: \", df.response[9])"
   ]
  },
  {
   "cell_type": "code",
   "execution_count": 11,
   "id": "1d151eb2-b141-4d43-af1e-cc0f343916ca",
   "metadata": {},
   "outputs": [],
   "source": [
    "\n",
    "\n",
    "models = df[\"model\"].unique().tolist()\n",
    "tickers = df[\"ticker\"].unique().tolist()\n",
    "grouped = {ticker: df[df[\"ticker\"] == ticker].to_dict(\"records\") for ticker in tickers}\n",
    "\n",
    "def build_prompt(ticker, action, pe, rsi, beta, anonymised):\n",
    "    prompt = f\"You are evaluating explanations for:\\n\" \\\n",
    "             f\"Ticker: {ticker}, Action: {action}, P/E: {pe}, RSI: {rsi}, Beta: {beta}\\n\\n\" \\\n",
    "             f\"Explanations:\\n\"\n",
    "    for r in anonymised:\n",
    "        prompt += f\"{r['id']}: {r['response']}\\n\"\n",
    "    prompt += (\n",
    "        \"\\nEvaluate each explanation on 1–5 (with 5 being excellent!) for:\\n\"\n",
    "        \"1. Factual alignment with input signals\\n\"\n",
    "        \"2. Clarity for non-experts\\n\"\n",
    "        \"3. Educational value\\n\\n\"\n",
    "        \"Return only a JSON object like:\\n\"\n",
    "        \"{ \\\"Resp 1\\\": [5, 4, 5], \\\"Resp 2\\\": [4, 3, 5], ... }\"\n",
    "    )\n",
    "    return prompt\n",
    "\n",
    "def safe_parse_json(text):\n",
    "    try:\n",
    "        match = re.search(r\"\\{.*?\\}\", text, re.DOTALL)\n",
    "        if not match:\n",
    "            return None\n",
    "        return ast.literal_eval(match.group())\n",
    "    except Exception:\n",
    "        return None\n",
    "\n",
    "all_scores = []\n",
    "\n",
    "for ticker in tickers:\n",
    "    rows = grouped[ticker]\n",
    "    for judge in models:\n",
    "        for run in range(3):  # Repeat evaluation 3 times\n",
    "            shuffled = random.sample(rows, len(rows))\n",
    "            anonymised = [{\"id\": f\"Resp {i+1}\", \"response\": r[\"response\"]} for i, r in enumerate(shuffled)]\n",
    "            id_to_model = {f\"Resp {i+1}\": r[\"model\"] for i, r in enumerate(shuffled)}\n",
    "\n",
    "            prompt = build_prompt(\n",
    "                ticker=ticker,\n",
    "                action=rows[0][\"action\"],\n",
    "                pe=rows[0][\"pe\"],\n",
    "                rsi=rows[0][\"rsi\"],\n",
    "                beta=rows[0][\"beta\"],\n",
    "                anonymised=anonymised\n",
    "            )\n",
    "\n",
    "            result = subprocess.run(\n",
    "                [\"ollama\", \"run\", judge],\n",
    "                input=prompt,\n",
    "                text=True,\n",
    "                capture_output=True,\n",
    "                timeout=90\n",
    "            )\n",
    "\n",
    "            output = result.stdout.strip()\n",
    "            parsed = safe_parse_json(output)\n",
    "\n",
    "            if parsed:\n",
    "                for rid, scores in parsed.items():\n",
    "                    all_scores.append({\n",
    "                        \"evaluator\": judge,\n",
    "                        \"model\": id_to_model.get(rid),\n",
    "                        \"ticker\": ticker,\n",
    "                        \"response_id\": rid,\n",
    "                        \"run\": run + 1,\n",
    "                        \"score_factual\": scores[0],\n",
    "                        \"score_clarity\": scores[1],\n",
    "                        \"score_learning\": scores[2]\n",
    "                    })\n",
    "            else:\n",
    "                print(f\"Failed to parse response from {judge} on {ticker} (run {run+1})\")\n",
    "                print(output)\n"
   ]
  },
  {
   "cell_type": "code",
   "execution_count": 12,
   "id": "b43d8d8d-d4e5-4449-8be7-3ed612fb45b5",
   "metadata": {},
   "outputs": [
    {
     "name": "stdout",
     "output_type": "stream",
     "text": [
      "\n",
      "📊 Weighted Model Rankings (Fluency Emphasised):\n",
      "                score_factual  score_clarity  score_learning  mean_weighted\n",
      "model                                                                      \n",
      "deepseek-r1:8b           4.62           4.18            4.74           4.48\n",
      "llama3.1:8b              4.47           4.06            4.72           4.38\n",
      "mistral:7b               4.47           3.97            4.78           4.36\n",
      "gemma:7b                 4.06           3.80            4.26           4.02\n"
     ]
    },
    {
     "data": {
      "image/png": "[encoded data removed]",
      "text/plain": [
       "<Figure size 1000x600 with 1 Axes>"
      ]
     },
     "metadata": {},
     "output_type": "display_data"
    }
   ],
   "source": [
    "# === Score aggregation and weighted ranking ===\n",
    "df_scores = pd.DataFrame(all_scores)\n",
    "\n",
    "# Mean per model\n",
    "agg = (\n",
    "    df_scores.groupby(\"model\")[[\"score_factual\", \"score_clarity\", \"score_learning\"]]\n",
    "    .mean()\n",
    "    .round(2)\n",
    ")\n",
    "\n",
    "# Apply custom weights (fluency weighted higher)\n",
    "w_factual = 0.3\n",
    "w_clarity = 0.4\n",
    "w_learning = 0.3\n",
    "\n",
    "agg[\"mean_weighted\"] = (\n",
    "    agg[\"score_factual\"] * w_factual +\n",
    "    agg[\"score_clarity\"] * w_clarity +\n",
    "    agg[\"score_learning\"] * w_learning\n",
    ").round(2)\n",
    "\n",
    "# Sort by weighted score\n",
    "agg = agg.sort_values(by=\"mean_weighted\", ascending=False)\n",
    "\n",
    "# Display result\n",
    "print(\"\\n📊 Weighted Model Rankings (Fluency Emphasised):\")\n",
    "print(agg[[\"score_factual\", \"score_clarity\", \"score_learning\", \"mean_weighted\"]])\n",
    "\n",
    "# Optional: bar chart\n",
    "agg[[\"score_factual\", \"score_clarity\", \"score_learning\"]].plot(\n",
    "    kind=\"bar\", figsize=(10, 6), title=\"Model Evaluation by Criterion\"\n",
    ")\n",
    "plt.ylabel(\"Average Score (1–5)\")\n",
    "plt.ylim(0, 5)\n",
    "plt.xticks(rotation=45)\n",
    "plt.grid(axis=\"y\")\n",
    "plt.tight_layout()\n",
    "plt.show()"
   ]
  },
  {
   "cell_type": "code",
   "execution_count": null,
   "id": "d7dfd0aa-0672-4a2b-af56-bde2105715fe",
   "metadata": {},
   "outputs": [],
   "source": []
  }
 ],
 "metadata": {
  "kernelspec": {
   "display_name": "Python 3 (ipykernel)",
   "language": "python",
   "name": "python3"
  },
  "language_info": {
   "codemirror_mode": {
    "name": "ipython",
    "version": 3
   },
   "file_extension": ".py",
   "mimetype": "text/x-python",
   "name": "python",
   "nbconvert_exporter": "python",
   "pygments_lexer": "ipython3",
   "version": "3.10.18"
  }
 },
 "nbformat": 4,
 "nbformat_minor": 5
}
